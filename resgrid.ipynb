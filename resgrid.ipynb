{
 "cells": [
  {
   "cell_type": "markdown",
   "metadata": {},
   "source": [
    "## Background\n",
    "This question comes from a cartoon\n",
    "![source of the question](https://imgs.xkcd.com/comics/nerd_sniping.png)\n",
    "The solution technique is based on [SPICE circuit simulation](https://ewh.ieee.org/soc/emcs/acstrial/newsletters/summer09/HowSpiceWorks.pdf)"
   ]
  },
  {
   "cell_type": "code",
   "execution_count": 5,
   "metadata": {},
   "outputs": [],
   "source": [
    "import numpy as np\n",
    "import scipy.sparse as sp\n",
    "import scipy.sparse.linalg as la\n",
    "import matplotlib.pyplot as plt"
   ]
  },
  {
   "cell_type": "code",
   "execution_count": 2,
   "metadata": {},
   "outputs": [
    {
     "data": {
      "image/png": "[encoded data removed]",
      "text/plain": [
       "<Figure size 432x288 with 3 Axes>"
      ]
     },
     "metadata": {
      "needs_background": "light"
     },
     "output_type": "display_data"
    },
    {
     "name": "stdout",
     "output_type": "stream",
     "text": [
      "Req = 0.769 Ohms\n"
     ]
    }
   ],
   "source": [
    "# variables to control scope of output\n",
    "G = None\n",
    "V = None\n",
    "P = np.empty((0,))\n",
    "R = np.empty((0,))\n",
    "\n",
    "for p in range(0,10): # increase padding until answer converges\n",
    "    # set up the grid parameters\n",
    "    m = 2 + 2*p\n",
    "    n = 3 + 2*p\n",
    "    q = m*n - 1\n",
    "    \n",
    "    # getting ready to build the matrix...\n",
    "    data = np.empty((0,))\n",
    "    row = np.empty((0,))\n",
    "    col = np.empty((0,))\n",
    "    \n",
    "    d = 4*np.ones(n)\n",
    "    d[0] = 3\n",
    "    d[-1] = 3\n",
    "    \n",
    "    # diagonal\n",
    "    data = np.hstack((data, d-1, np.tile(d, m-2), d[:-1]-1))\n",
    "    row = np.hstack((row, np.arange(q)))\n",
    "    col = np.hstack((col, np.arange(q)))\n",
    "\n",
    "    # upper off diagonal\n",
    "    data = np.hstack((data, -np.ones(q-1)))\n",
    "    row = np.hstack((row, np.arange(q-1)))\n",
    "    col = np.hstack((col, np.arange(q-1)+1))\n",
    "\n",
    "    # lower off diagonal\n",
    "    data = np.hstack((data, -np.ones(q-1)))\n",
    "    row = np.hstack((row, np.arange(q-1)+1))\n",
    "    col = np.hstack((col, np.arange(q-1)))\n",
    "\n",
    "    # upper row coupling\n",
    "    data = np.hstack((data, -np.ones(q-n)))\n",
    "    row = np.hstack((row, np.arange(q-n)))\n",
    "    col = np.hstack((col, np.arange(q-n)+n))\n",
    "\n",
    "    # lower row coupling\n",
    "    data = np.hstack((data, -np.ones(q-n)))\n",
    "    row = np.hstack((row, np.arange(q-n)+n))\n",
    "    col = np.hstack((col, np.arange(q-n)))\n",
    "    \n",
    "    # finally assembly pieces into matrix G\n",
    "    G = sp.csc_matrix((data, (row, col)), shape=(q, q))\n",
    "\n",
    "    # find middle squares separated by a knight's move\n",
    "    a = int(n*(m/2-1) + (n-3)/2)\n",
    "    b = int(n*m/2 + (n+1)/2)\n",
    "    \n",
    "    # insert 1A current source between 'a' and 'b'\n",
    "    \n",
    "    if p == 0: # handle no padding as special case\n",
    "        I = sp.csc_matrix(([1], ([a], [0])), shape=(q,1)) \n",
    "    else:\n",
    "        I = sp.csc_matrix(([1, -1], ([a, b], [0, 0])), shape=(q,1))\n",
    "    \n",
    "    # solve the matrix problem\n",
    "    V = la.spsolve(G, I)\n",
    "    V = np.hstack((V, 0))\n",
    "    V = V - V[b] # use point b as ground\n",
    "    P = np.hstack((P, p))\n",
    "    R = np.hstack((R, V[a])) # Req = voltage developed at 'a' / 1 Amp\n",
    "\n",
    "# plots\n",
    "fig = plt.figure()\n",
    "plt.subplot(131)\n",
    "#plt.spy(G)\n",
    "plt.imshow(G.toarray())\n",
    "plt.xticks([])\n",
    "plt.yticks([])\n",
    "plt.title('Matrix Structure')\n",
    "plt.subplot(132)\n",
    "plt.semilogy(P[1:], np.diff(R)/R[1:], label='relative error')\n",
    "plt.semilogy(P[1:], np.abs(np.diff(R)), label='absolute error')\n",
    "plt.title('Convergence')\n",
    "plt.subplot(133)\n",
    "plt.imshow(np.reshape(V, (m, n)), cmap='viridis')\n",
    "plt.axis([(m/2-1)-min(P[-1], 10), m/2+min(P[-1], 10), \\\n",
    "          (n-3)/2-min(P[-1], 10), (n+1)/2+min(P[-1], 10)])\n",
    "plt.title('Voltage over network')\n",
    "plt.show()\n",
    "fig.tight_layout()\n",
    "\n",
    "# display answer\n",
    "print(f'Req = {R[-1]:0.3f} Ohms')"
   ]
  },
  {
   "cell_type": "markdown",
   "metadata": {},
   "source": [
    "## Analytical Solution\n",
    "[This website](https://www.mathpages.com/home/kmath668/kmath668.htm) offers an exact analytical procedure that finds the answer to be:\n",
    "    $$\\frac{4}{\\pi} - \\frac{1}{2}$$"
   ]
  },
  {
   "cell_type": "code",
   "execution_count": 41,
   "metadata": {},
   "outputs": [
    {
     "name": "stdout",
     "output_type": "stream",
     "text": [
      "Ractual = 0.773 Ohms\n"
     ]
    }
   ],
   "source": [
    "# Actual answer\n",
    "Ractual = 4/np.pi - 1/2\n",
    "print(f'Ractual = {Ractual:0.3f} Ohms')"
   ]
  }
 ],
 "metadata": {
  "kernelspec": {
   "display_name": "Python 3",
   "language": "python",
   "name": "python3"
  },
  "language_info": {
   "codemirror_mode": {
    "name": "ipython",
    "version": 3
   },
   "file_extension": ".py",
   "mimetype": "text/x-python",
   "name": "python",
   "nbconvert_exporter": "python",
   "pygments_lexer": "ipython3",
   "version": "3.7.1"
  }
 },
 "nbformat": 4,
 "nbformat_minor": 4
}
